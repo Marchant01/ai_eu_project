{
 "cells": [
  {
   "cell_type": "markdown",
   "id": "41c9e9f9",
   "metadata": {},
   "source": [
    "# AI EU Project #"
   ]
  },
  {
   "cell_type": "code",
   "execution_count": 9,
   "id": "74ddc8da",
   "metadata": {},
   "outputs": [],
   "source": [
    "import numpy as np\n",
    "import pandas as pd\n",
    "\n",
    "df = pd.read_excel('pstw_dataset.xlsx')"
   ]
  },
  {
   "cell_type": "markdown",
   "id": "f8bac624",
   "metadata": {},
   "source": [
    "## Drop unnused columns ##"
   ]
  },
  {
   "cell_type": "code",
   "execution_count": 40,
   "id": "291f0b62",
   "metadata": {},
   "outputs": [],
   "source": [
    "columns = [\n",
    "    \"Procurement (EU Model Contractual AI)\",\n",
    "    \"Geographical extent\",\n",
    "    \"Geographical coverage (country)\",\n",
    "    \"Responsible organisation\",\n",
    "    \"Responsible organisation category\",\n",
    "    \"Functions of Government (COFOG level I)\",\n",
    "    \"Functions of Government (COFOG level II)\",\n",
    "    \" Status\",\n",
    "    \"Process type\",\n",
    "    \"Application type\",\n",
    "    \"Cross Border\",\n",
    "    \"Cross Sector\",\n",
    "    \"Interaction\",\n",
    "    \"Improved Public Service\",\n",
    "    \"Personalized Services\",\n",
    "    \"Public (citizen)-centered services\",\n",
    "    \"Increase quality of PSI and services\",\n",
    "    \"More responsive, efficient, and cost-effective public services\",\n",
    "    \"New services or channels\",\n",
    "    \"Improved Administrative Efficiency\",\n",
    "    \"Cost-reduction\",\n",
    "    \"Responsiveness of government operation\",\n",
    "    \"Improved management of public resources\",\n",
    "    \"Increased quality of processes and systems\",\n",
    "    \"Open government capabilities\",\n",
    "    \"Increased transparency of public sector operations\",\n",
    "    \"Source\",\n",
    "    \"AI Classification (I)\",\n",
    "    \"AI Classification Subdomain (II) (main)\",\n",
    "    \"AI Classification Subdomain (II) (Other I)\",\n",
    "    \"AI Keywords\",\n",
    "    \"Collaboration type\",\n",
    "    \"Funding source\"\n",
    "]\n",
    "\n",
    "def translate_x(column):\n",
    "  df[column] = df[column].replace({\n",
    "      \"x\": 1,\n",
    "      \"X\": 1,\n",
    "      np.nan: 0\n",
    "  })\n",
    "  df[column] = df[column].astype(int)\n",
    "  return df[column]\n"
   ]
  },
  {
   "cell_type": "code",
   "execution_count": null,
   "id": "1a0619e5",
   "metadata": {},
   "outputs": [],
   "source": []
  }
 ],
 "metadata": {
  "kernelspec": {
   "display_name": "base",
   "language": "python",
   "name": "python3"
  },
  "language_info": {
   "codemirror_mode": {
    "name": "ipython",
    "version": 3
   },
   "file_extension": ".py",
   "mimetype": "text/x-python",
   "name": "python",
   "nbconvert_exporter": "python",
   "pygments_lexer": "ipython3",
   "version": "3.13.5"
  }
 },
 "nbformat": 4,
 "nbformat_minor": 5
}

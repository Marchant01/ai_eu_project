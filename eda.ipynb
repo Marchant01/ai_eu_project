{
 "cells": [
  {
   "cell_type": "markdown",
   "id": "41c9e9f9",
   "metadata": {},
   "source": [
    "# AI EU Project #"
   ]
  }
 ],
 "metadata": {
  "language_info": {
   "name": "python"
  }
 },
 "nbformat": 4,
 "nbformat_minor": 5
}

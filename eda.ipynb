{
 "cells": [
  {
   "cell_type": "markdown",
   "id": "41c9e9f9",
   "metadata": {},
   "source": [
    "# AI EU Project #"
   ]
  },
  {
   "cell_type": "code",
   "execution_count": 4,
   "id": "74ddc8da",
   "metadata": {},
   "outputs": [],
   "source": [
    "import numpy as np\n",
    "import pandas as pd\n",
    "\n",
    "# Load the dataset\n",
    "df = pd.read_excel('pstw_dataset.xlsx')"
   ]
  },
  {
   "cell_type": "markdown",
   "id": "f8bac624",
   "metadata": {},
   "source": [
    "## Drop unnused columns ##"
   ]
  },
  {
   "cell_type": "code",
   "execution_count": 6,
   "id": "291f0b62",
   "metadata": {},
   "outputs": [
    {
     "ename": "AttributeError",
     "evalue": "'DataFrame' object has no attribute 'str'",
     "output_type": "error",
     "traceback": [
      "\u001b[1;31m---------------------------------------------------------------------------\u001b[0m",
      "\u001b[1;31mAttributeError\u001b[0m                            Traceback (most recent call last)",
      "\u001b[1;32m~\\AppData\\Local\\Temp\\ipykernel_11272\\1807961390.py\u001b[0m in \u001b[0;36m?\u001b[1;34m()\u001b[0m\n\u001b[0;32m      1\u001b[0m \u001b[1;31m# Ensures all the projects are within AI\u001b[0m\u001b[1;33m\u001b[0m\u001b[1;33m\u001b[0m\u001b[0m\n\u001b[1;32m----> 2\u001b[1;33m \u001b[0mdf\u001b[0m \u001b[1;33m=\u001b[0m \u001b[0mdf\u001b[0m\u001b[1;33m[\u001b[0m\u001b[0mdf\u001b[0m\u001b[1;33m[\u001b[0m\u001b[1;34m'Primary Technology'\u001b[0m\u001b[1;33m]\u001b[0m\u001b[1;33m.\u001b[0m\u001b[0mstr\u001b[0m\u001b[1;33m.\u001b[0m\u001b[0mlower\u001b[0m\u001b[1;33m(\u001b[0m\u001b[1;33m)\u001b[0m \u001b[1;33m==\u001b[0m \u001b[1;34m'artificial intelligence'\u001b[0m\u001b[1;33m]\u001b[0m\u001b[1;33m\u001b[0m\u001b[1;33m\u001b[0m\u001b[0m\n\u001b[0m\u001b[0;32m      3\u001b[0m \u001b[1;33m\u001b[0m\u001b[0m\n\u001b[0;32m      4\u001b[0m \u001b[1;31m# All columns needed for the project\u001b[0m\u001b[1;33m\u001b[0m\u001b[1;33m\u001b[0m\u001b[0m\n\u001b[0;32m      5\u001b[0m columns = [\n",
      "\u001b[1;32mc:\\ProgramData\\anaconda3\\Lib\\site-packages\\pandas\\core\\generic.py\u001b[0m in \u001b[0;36m?\u001b[1;34m(self, name)\u001b[0m\n\u001b[0;32m   6295\u001b[0m             \u001b[1;32mand\u001b[0m \u001b[0mname\u001b[0m \u001b[1;32mnot\u001b[0m \u001b[1;32min\u001b[0m \u001b[0mself\u001b[0m\u001b[1;33m.\u001b[0m\u001b[0m_accessors\u001b[0m\u001b[1;33m\u001b[0m\u001b[1;33m\u001b[0m\u001b[0m\n\u001b[0;32m   6296\u001b[0m             \u001b[1;32mand\u001b[0m \u001b[0mself\u001b[0m\u001b[1;33m.\u001b[0m\u001b[0m_info_axis\u001b[0m\u001b[1;33m.\u001b[0m\u001b[0m_can_hold_identifiers_and_holds_name\u001b[0m\u001b[1;33m(\u001b[0m\u001b[0mname\u001b[0m\u001b[1;33m)\u001b[0m\u001b[1;33m\u001b[0m\u001b[1;33m\u001b[0m\u001b[0m\n\u001b[0;32m   6297\u001b[0m         \u001b[1;33m)\u001b[0m\u001b[1;33m:\u001b[0m\u001b[1;33m\u001b[0m\u001b[1;33m\u001b[0m\u001b[0m\n\u001b[0;32m   6298\u001b[0m             \u001b[1;32mreturn\u001b[0m \u001b[0mself\u001b[0m\u001b[1;33m[\u001b[0m\u001b[0mname\u001b[0m\u001b[1;33m]\u001b[0m\u001b[1;33m\u001b[0m\u001b[1;33m\u001b[0m\u001b[0m\n\u001b[1;32m-> 6299\u001b[1;33m         \u001b[1;32mreturn\u001b[0m \u001b[0mobject\u001b[0m\u001b[1;33m.\u001b[0m\u001b[0m__getattribute__\u001b[0m\u001b[1;33m(\u001b[0m\u001b[0mself\u001b[0m\u001b[1;33m,\u001b[0m \u001b[0mname\u001b[0m\u001b[1;33m)\u001b[0m\u001b[1;33m\u001b[0m\u001b[1;33m\u001b[0m\u001b[0m\n\u001b[0m",
      "\u001b[1;31mAttributeError\u001b[0m: 'DataFrame' object has no attribute 'str'"
     ]
    }
   ],
   "source": [
    "# Ensures all the projects are within AI \n",
    "df = df[df['Primary Technology'].str.lower() == 'artificial intelligence']\n",
    "\n",
    "# All columns needed for the project\n",
    "columns = [\n",
    "    \"Geographical extent\",\n",
    "    \"Geographical coverage (country)\",\n",
    "    #\"Responsible organisation\",\n",
    "    \"Responsible organisation category\",\n",
    "    \"Functions of Government (COFOG level I)\",\n",
    "    \"Functions of Government (COFOG level II)\",\n",
    "    \" Status\",\n",
    "    \"Process type\",\n",
    "    \"Application type\",\n",
    "    \"Cross Border\",\n",
    "    \"Cross Sector\",\n",
    "    \"Interaction\",\n",
    "    \"Improved Public Service\",\n",
    "    \"Personalized Services\",\n",
    "    \"Public (citizen)-centered services\",\n",
    "    \"Increase quality of PSI and services\",\n",
    "    \"More responsive, efficient, and cost-effective public services\",\n",
    "    \"New services or channels\",\n",
    "    \"Improved Administrative Efficiency\",\n",
    "    \"Cost-reduction\",\n",
    "    \"Responsiveness of government operation\",\n",
    "    \"Improved management of public resources\",\n",
    "    \"Increased quality of processes and systems\",\n",
    "    \"Open government capabilities\",\n",
    "    \"Increased transparency of public sector operations\",\n",
    "    \"AI Classification (I)\",\n",
    "    \"AI Classification Subdomain (II) (main)\",\n",
    "    \"AI Classification Subdomain (II) (Other I)\",\n",
    "    \"AI Keywords\",\n",
    "    \"Collaboration type\",\n",
    "    \"Funding source\"\n",
    "]\n",
    "\n",
    "# Columns to replace that contains X:s\n",
    "x_columns = [\n",
    "    \"Improved Public Service\",\n",
    "    \"Personalized Services\",\n",
    "    \"Public (citizen)-centered services\",\n",
    "    \"Increase quality of PSI and services\",\n",
    "    \"More responsive, efficient, and cost-effective public services\",\n",
    "    \"New services or channels\",\n",
    "    \"Improved Administrative Efficiency\",\n",
    "    \"Cost-reduction\",\n",
    "    \"Responsiveness of government operation\",\n",
    "    \"Improved management of public resources\",\n",
    "    \"Increased quality of processes and systems\",\n",
    "    \"Open government capabilities\",\n",
    "    \"Increased transparency of public sector operations\"\n",
    "]\n",
    "\n",
    "# Selects the right columns\n",
    "df_selected = df[columns]\n",
    "\n",
    "# Replaces X/ x with 1 or 0 to ease dummy-encoding\n",
    "def translate_x(df, column):\n",
    "  df[column] = df[column].replace({\n",
    "      \"x\": 1,\n",
    "      \"X\": 1,\n",
    "      \"\\xa0\": 0,\n",
    "      np.nan: 0\n",
    "  })\n",
    "  df[column] = df[column].astype(int)\n",
    "  #return df[column]\n",
    "\n",
    "\n",
    "            \n",
    "# Replaces Pilot phase with pilot for consistensy\n",
    "df[' Status'] = df[' Status'].replace({'Pilot phase': 'Pilot'})\n",
    "\n",
    "for column in x_columns:\n",
    "    print(column)\n",
    "    translate_x(df_selected, column)\n",
    "\n",
    "# Dummy-encodes all other columns\n",
    "for col in columns:\n",
    "    if col != \" Status\" and col not in x_columns:\n",
    "        dummies = pd.get_dummies(df, columns=[col], prefix=\"de-\", drop_first=True)\n",
    "        df = pd.concat([df, dummies], axis=1)\n",
    "    df.drop(col, axis=1, inplace=True)\n",
    "    \n",
    "print(df_selected)"
   ]
  },
  {
   "cell_type": "code",
   "execution_count": null,
   "id": "7e9f8f4c",
   "metadata": {},
   "outputs": [],
   "source": []
  }
 ],
 "metadata": {
  "kernelspec": {
   "display_name": "base",
   "language": "python",
   "name": "python3"
  },
  "language_info": {
   "codemirror_mode": {
    "name": "ipython",
    "version": 3
   },
   "file_extension": ".py",
   "mimetype": "text/x-python",
   "name": "python",
   "nbconvert_exporter": "python",
   "pygments_lexer": "ipython3",
   "version": "3.13.5"
  }
 },
 "nbformat": 4,
 "nbformat_minor": 5
}
